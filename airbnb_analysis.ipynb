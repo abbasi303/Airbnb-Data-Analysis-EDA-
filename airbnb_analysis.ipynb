{
 "cells": [
  {
   "cell_type": "markdown",
   "metadata": {},
   "source": [
    "Q1"
   ]
  },
  {
   "cell_type": "code",
   "execution_count": 4,
   "metadata": {},
   "outputs": [],
   "source": [
    "import pandas as pd\n",
    "import numpy as np\n",
    "\n",
    "\n"
   ]
  },
  {
   "cell_type": "markdown",
   "metadata": {},
   "source": [
    "Q2"
   ]
  },
  {
   "cell_type": "code",
   "execution_count": 5,
   "metadata": {},
   "outputs": [],
   "source": [
    "df = pd.read_csv('Airbnb.csv')\n"
   ]
  },
  {
   "cell_type": "markdown",
   "metadata": {},
   "source": [
    "Q3"
   ]
  },
  {
   "cell_type": "code",
   "execution_count": 6,
   "metadata": {},
   "outputs": [
    {
     "name": "stdout",
     "output_type": "stream",
     "text": [
      "      id                                              name  host_id  \\\n",
      "0   2539                Clean & quiet apt home by the park     2787   \n",
      "1   2595                             Skylit Midtown Castle     2845   \n",
      "2   3647               THE VILLAGE OF HARLEM....NEW YORK !     4632   \n",
      "3   3831                   Cozy Entire Floor of Brownstone     4869   \n",
      "4   5022  Entire Apt: Spacious Studio/Loft by central park     7192   \n",
      "5   5099         Large Cozy 1 BR Apartment In Midtown East     7322   \n",
      "6   5121                                   BlissArtsSpace!     7356   \n",
      "7   5178                  Large Furnished Room Near B'way      8967   \n",
      "8   5203                Cozy Clean Guest Room - Family Apt     7490   \n",
      "9   5238                Cute & Cozy Lower East Side 1 bdrm     7549   \n",
      "10  5295                  Beautiful 1br on Upper West Side     7702   \n",
      "11  2595                             Skylit Midtown Castle     2845   \n",
      "12  5121                                   BlissArtsSpace!     7356   \n",
      "13  5295                  Beautiful 1br on Upper West Side     7702   \n",
      "14  6090                     West Village Nest - Superhost    11975   \n",
      "15  7097                 Perfect for Your Parents + Garden    17571   \n",
      "16  5441                   Central Manhattan/near Broadway     7989   \n",
      "17  5803    Lovely Room 1, Garden, Best Area, Legal rental     9744   \n",
      "18  6021  Wonderful Guest Bedroom in Manhattan for SINGLES    11528   \n",
      "19  6090                     West Village Nest - Superhost    11975   \n",
      "\n",
      "      host_name neighbourhood group       neighbourhood  latitude  longitude  \\\n",
      "0          John            Brooklyn          Kensington  40.64749  -73.97237   \n",
      "1      Jennifer           Manhattan             Midtown  40.75362  -73.98377   \n",
      "2     Elisabeth           Manhattan              Harlem  40.80902  -73.94190   \n",
      "3   LisaRoxanne            Brooklyn        Clinton Hill  40.68514  -73.95976   \n",
      "4         Laura           Manhattan         East Harlem  40.79851  -73.94399   \n",
      "5         Chris           Manhattan         Murray Hill  40.74767  -73.97500   \n",
      "6         Garon            Brooklyn  Bedford-Stuyvesant  40.68688  -73.95596   \n",
      "7      Shunichi           Manhattan      Hell's Kitchen  40.76489  -73.98493   \n",
      "8     MaryEllen           Manhattan     Upper West Side  40.80178  -73.96723   \n",
      "9           Ben           Manhattan           Chinatown  40.71344  -73.99037   \n",
      "10         Lena           Manhattan     Upper West Side  40.80316  -73.96545   \n",
      "11     Jennifer           Manhattan             Midtown  40.75362  -73.98377   \n",
      "12        Garon            Brooklyn  Bedford-Stuyvesant  40.68688  -73.95596   \n",
      "13         Lena           Manhattan     Upper West Side  40.80316  -73.96545   \n",
      "14        Alina           Manhattan        West Village  40.73530  -74.00525   \n",
      "15         Jane            Brooklyn         Fort Greene  40.69169  -73.97185   \n",
      "16         Kate           Manhattan      Hell's Kitchen  40.76076  -73.98867   \n",
      "17       Laurie            Brooklyn         South Slope  40.66829  -73.98779   \n",
      "18      Claudio           Manhattan     Upper West Side  40.79826  -73.96113   \n",
      "19        Alina           Manhattan        West Village  40.73530  -74.00525   \n",
      "\n",
      "          room type  price  minimum nights  number_of_reviews last review  \\\n",
      "0      Private room  149.0             1.0                  9  10/19/2018   \n",
      "1   Entire home/apt  225.0             1.0                 45   5/21/2019   \n",
      "2      Private room  150.0             3.0                  0         NaN   \n",
      "3   Entire home/apt   89.0             1.0                270    7/5/2019   \n",
      "4   Entire home/apt   80.0            10.0                  9  11/19/2018   \n",
      "5   Entire home/apt  200.0             3.0                 74   6/22/2019   \n",
      "6      Private room   60.0            45.0                 49   10/5/2017   \n",
      "7      Private room   79.0             2.0                430   6/24/2019   \n",
      "8      Private room   79.0             2.0                118   7/21/2017   \n",
      "9   Entire home/apt  150.0             1.0                160    6/9/2019   \n",
      "10  Entire home/apt  135.0             5.0                 53   6/22/2019   \n",
      "11  Entire home/apt  225.0             1.0                 45   5/21/2019   \n",
      "12     Private room   60.0            45.0                 49   10/5/2017   \n",
      "13  Entire home/apt  135.0             5.0                 53   6/22/2019   \n",
      "14  Entire home/apt  120.0            90.0                 27  10/31/2018   \n",
      "15  Entire home/apt  215.0             2.0                198   6/28/2019   \n",
      "16     Private room   85.0             2.0                188   6/23/2019   \n",
      "17     Private room   89.0             4.0                167   6/24/2019   \n",
      "18     Private room   85.0             2.0                113    7/5/2019   \n",
      "19  Entire home/apt  120.0            90.0                 27  10/31/2018   \n",
      "\n",
      "    reviews_per_month  calculated_host_listings_count  availability_365  \n",
      "0                0.21                               6               365  \n",
      "1                0.38                               2               355  \n",
      "2                 NaN                               1               365  \n",
      "3                4.64                               1               194  \n",
      "4                0.10                               1                 0  \n",
      "5                0.59                               1               129  \n",
      "6                0.40                               1                 0  \n",
      "7                3.47                               1               220  \n",
      "8                0.99                               1                 0  \n",
      "9                1.33                               4               188  \n",
      "10               0.43                               1                 6  \n",
      "11               0.38                               2               355  \n",
      "12               0.40                               1                 0  \n",
      "13               0.43                               1                 6  \n",
      "14               0.22                               1                 0  \n",
      "15               1.72                               1               321  \n",
      "16               1.50                               1                39  \n",
      "17               1.34                               3               314  \n",
      "18               0.91                               1               333  \n",
      "19               0.22                               1                 0  \n"
     ]
    }
   ],
   "source": [
    "print(df.head(20))\n"
   ]
  },
  {
   "cell_type": "markdown",
   "metadata": {},
   "source": [
    "Q4"
   ]
  },
  {
   "cell_type": "code",
   "execution_count": 7,
   "metadata": {},
   "outputs": [
    {
     "name": "stdout",
     "output_type": "stream",
     "text": [
      "Dataset Shape: (48900, 16)\n"
     ]
    }
   ],
   "source": [
    "print(\"Dataset Shape:\", df.shape)\n",
    "#Large data set means represents need of eda\n",
    "#proceed with data cleaning(duplicate removal,missing value handling, outlier fixes etc)\n"
   ]
  },
  {
   "cell_type": "markdown",
   "metadata": {},
   "source": [
    "Q5"
   ]
  },
  {
   "cell_type": "code",
   "execution_count": 8,
   "metadata": {},
   "outputs": [
    {
     "name": "stdout",
     "output_type": "stream",
     "text": [
      "id                                  int64\n",
      "name                               object\n",
      "host_id                             int64\n",
      "host_name                          object\n",
      "neighbourhood group                object\n",
      "neighbourhood                      object\n",
      "latitude                          float64\n",
      "longitude                         float64\n",
      "room type                          object\n",
      "price                             float64\n",
      "minimum nights                    float64\n",
      "number_of_reviews                   int64\n",
      "last review                        object\n",
      "reviews_per_month                 float64\n",
      "calculated_host_listings_count      int64\n",
      "availability_365                    int64\n",
      "dtype: object\n"
     ]
    }
   ],
   "source": [
    "print(df.dtypes)\n"
   ]
  },
  {
   "cell_type": "code",
   "execution_count": 9,
   "metadata": {},
   "outputs": [],
   "source": [
    "#host_name,neighbourhood_group is obj dtype should be string.\n",
    "#minimum nights should be int64 .\n",
    "#last review should be date type not object .\n",
    "# price should be int64 instead of float64 (since prices are usually whole numbers).\n",
    "# reviews_per_month has missing values (NaN) and should be float64, but consider filling NaNs with 0.0 (indicating no reviews).\n",
    "# availability_365 is an int64, but ensure it’s between 0 and 365 (values outside this range would be incorrect).\n",
    "\n"
   ]
  },
  {
   "cell_type": "code",
   "execution_count": 10,
   "metadata": {},
   "outputs": [
    {
     "name": "stdout",
     "output_type": "stream",
     "text": [
      "id                                         int64\n",
      "name                                      object\n",
      "host_id                                    int64\n",
      "host_name                                 object\n",
      "neighbourhood group                       object\n",
      "neighbourhood                             object\n",
      "latitude                                 float64\n",
      "longitude                                float64\n",
      "room type                                 object\n",
      "price                                      int64\n",
      "minimum nights                             int64\n",
      "number_of_reviews                          int64\n",
      "last review                       datetime64[ns]\n",
      "reviews_per_month                        float64\n",
      "calculated_host_listings_count             int64\n",
      "availability_365                           int64\n",
      "dtype: object\n"
     ]
    }
   ],
   "source": [
    "#changing above\n",
    "import pandas as pd\n",
    "\n",
    "# convert host_name and 'neighbourhood_group' to string\n",
    "df['host_name'] = df['host_name'].astype(str)\n",
    "df['neighbourhood group'] = df['neighbourhood group'].astype(str)\n",
    "\n",
    "# convert 'minimum nights' to int\n",
    "df['minimum nights'] = df['minimum nights'].astype(int)\n",
    "# convert 'last rview' to datetime\n",
    "df['last review'] = pd.to_datetime(df['last review'], errors='coerce')\n",
    "\n",
    "# convert 'price' to int (after ensuring no nan values)\n",
    "df['price'] = df['price'].fillna(0).astype(int)\n",
    "\n",
    "# fill nan in 'reviews_per_month' with 0.0 and ensure it's float\n",
    "df['reviews_per_month'] = df['reviews_per_month'].fillna(0.0).astype(float)\n",
    "# Ensure 'availability_365' values are within 0-365 range\n",
    "df.loc[df['availability_365'] > 365, 'availability_365'] = 365\n",
    "df.loc[df['availability_365'] < 0, 'availability_365'] = 0\n",
    "\n",
    "# Confirm data types\n",
    "print(df.dtypes)\n"
   ]
  },
  {
   "cell_type": "markdown",
   "metadata": {},
   "source": [
    "Q6"
   ]
  },
  {
   "cell_type": "code",
   "execution_count": 11,
   "metadata": {},
   "outputs": [
    {
     "name": "stdout",
     "output_type": "stream",
     "text": [
      "      id                                              name  host_id  \\\n",
      "0   2539                Clean & quiet apt home by the park     2787   \n",
      "1   2595                             Skylit Midtown Castle     2845   \n",
      "2   3647               THE VILLAGE OF HARLEM....NEW YORK !     4632   \n",
      "3   3831                   Cozy Entire Floor of Brownstone     4869   \n",
      "4   5022  Entire Apt: Spacious Studio/Loft by central park     7192   \n",
      "5   5099         Large Cozy 1 BR Apartment In Midtown East     7322   \n",
      "6   5121                                   BlissArtsSpace!     7356   \n",
      "7   5178                  Large Furnished Room Near B'way      8967   \n",
      "8   5203                Cozy Clean Guest Room - Family Apt     7490   \n",
      "9   5238                Cute & Cozy Lower East Side 1 bdrm     7549   \n",
      "10  5295                  Beautiful 1br on Upper West Side     7702   \n",
      "11  2595                             Skylit Midtown Castle     2845   \n",
      "12  5121                                   BlissArtsSpace!     7356   \n",
      "13  5295                  Beautiful 1br on Upper West Side     7702   \n",
      "14  6090                     West Village Nest - Superhost    11975   \n",
      "15  7097                 Perfect for Your Parents + Garden    17571   \n",
      "16  5441                   Central Manhattan/near Broadway     7989   \n",
      "17  5803    Lovely Room 1, Garden, Best Area, Legal rental     9744   \n",
      "18  6021  Wonderful Guest Bedroom in Manhattan for SINGLES    11528   \n",
      "19  6090                     West Village Nest - Superhost    11975   \n",
      "\n",
      "      host_name neighbourhood group       neighbourhood  latitude  longitude  \\\n",
      "0          John            Brooklyn          Kensington  40.64749  -73.97237   \n",
      "1      Jennifer           Manhattan             Midtown  40.75362  -73.98377   \n",
      "2     Elisabeth           Manhattan              Harlem  40.80902  -73.94190   \n",
      "3   LisaRoxanne            Brooklyn        Clinton Hill  40.68514  -73.95976   \n",
      "4         Laura           Manhattan         East Harlem  40.79851  -73.94399   \n",
      "5         Chris           Manhattan         Murray Hill  40.74767  -73.97500   \n",
      "6         Garon            Brooklyn  Bedford-Stuyvesant  40.68688  -73.95596   \n",
      "7      Shunichi           Manhattan      Hell's Kitchen  40.76489  -73.98493   \n",
      "8     MaryEllen           Manhattan     Upper West Side  40.80178  -73.96723   \n",
      "9           Ben           Manhattan           Chinatown  40.71344  -73.99037   \n",
      "10         Lena           Manhattan     Upper West Side  40.80316  -73.96545   \n",
      "11     Jennifer           Manhattan             Midtown  40.75362  -73.98377   \n",
      "12        Garon            Brooklyn  Bedford-Stuyvesant  40.68688  -73.95596   \n",
      "13         Lena           Manhattan     Upper West Side  40.80316  -73.96545   \n",
      "14        Alina           Manhattan        West Village  40.73530  -74.00525   \n",
      "15         Jane            Brooklyn         Fort Greene  40.69169  -73.97185   \n",
      "16         Kate           Manhattan      Hell's Kitchen  40.76076  -73.98867   \n",
      "17       Laurie            Brooklyn         South Slope  40.66829  -73.98779   \n",
      "18      Claudio           Manhattan     Upper West Side  40.79826  -73.96113   \n",
      "19        Alina           Manhattan        West Village  40.73530  -74.00525   \n",
      "\n",
      "          room type  price  minimum nights  number_of_reviews last review  \\\n",
      "0      Private room    149               1                  9  2018-10-19   \n",
      "1   Entire home/apt    225               1                 45  2019-05-21   \n",
      "2      Private room    150               3                  0         NaT   \n",
      "3   Entire home/apt     89               1                270  2019-07-05   \n",
      "4   Entire home/apt     80              10                  9  2018-11-19   \n",
      "5   Entire home/apt    200               3                 74  2019-06-22   \n",
      "6      Private room     60              45                 49  2017-10-05   \n",
      "7      Private room     79               2                430  2019-06-24   \n",
      "8      Private room     79               2                118  2017-07-21   \n",
      "9   Entire home/apt    150               1                160  2019-06-09   \n",
      "10  Entire home/apt    135               5                 53  2019-06-22   \n",
      "11  Entire home/apt    225               1                 45  2019-05-21   \n",
      "12     Private room     60              45                 49  2017-10-05   \n",
      "13  Entire home/apt    135               5                 53  2019-06-22   \n",
      "14  Entire home/apt    120              90                 27  2018-10-31   \n",
      "15  Entire home/apt    215               2                198  2019-06-28   \n",
      "16     Private room     85               2                188  2019-06-23   \n",
      "17     Private room     89               4                167  2019-06-24   \n",
      "18     Private room     85               2                113  2019-07-05   \n",
      "19  Entire home/apt    120              90                 27  2018-10-31   \n",
      "\n",
      "    reviews_per_month  calculated_host_listings_count  availability_365  \n",
      "0                0.21                               6               365  \n",
      "1                0.38                               2               355  \n",
      "2                0.00                               1               365  \n",
      "3                4.64                               1               194  \n",
      "4                0.10                               1                 0  \n",
      "5                0.59                               1               129  \n",
      "6                0.40                               1                 0  \n",
      "7                3.47                               1               220  \n",
      "8                0.99                               1                 0  \n",
      "9                1.33                               4               188  \n",
      "10               0.43                               1                 6  \n",
      "11               0.38                               2               355  \n",
      "12               0.40                               1                 0  \n",
      "13               0.43                               1                 6  \n",
      "14               0.22                               1                 0  \n",
      "15               1.72                               1               321  \n",
      "16               1.50                               1                39  \n",
      "17               1.34                               3               314  \n",
      "18               0.91                               1               333  \n",
      "19               0.22                               1                 0  \n"
     ]
    }
   ],
   "source": [
    "print(df.head(20))\n"
   ]
  },
  {
   "cell_type": "code",
   "execution_count": 12,
   "metadata": {},
   "outputs": [
    {
     "name": "stdout",
     "output_type": "stream",
     "text": [
      "                 id       host_id      latitude     longitude         price  \\\n",
      "count  4.890000e+04  4.890000e+04  48900.000000  48900.000000  48900.000000   \n",
      "mean   1.901520e+07  6.761310e+07     40.728949    -73.952172    152.720511   \n",
      "min    2.539000e+03  2.438000e+03     40.499790    -74.244420      0.000000   \n",
      "25%    9.470353e+06  7.812758e+06     40.690100    -73.983072     69.000000   \n",
      "50%    1.967620e+07  3.079058e+07     40.723075    -73.955680    106.000000   \n",
      "75%    2.915173e+07  1.074344e+08     40.763112    -73.936280    175.000000   \n",
      "max    3.648724e+07  2.743213e+08     40.913060    -73.712990  10000.000000   \n",
      "std    1.098423e+07  7.860992e+07      0.054529      0.046155    240.142704   \n",
      "\n",
      "       minimum nights  number_of_reviews                    last review  \\\n",
      "count    48900.000000       48900.000000                          38848   \n",
      "mean         7.032168          23.279693  2018-10-04 02:02:57.182866432   \n",
      "min          1.000000           0.000000            2011-03-28 00:00:00   \n",
      "25%          1.000000           1.000000            2018-07-08 00:00:00   \n",
      "50%          3.000000           5.000000            2019-05-19 00:00:00   \n",
      "75%          5.000000          24.000000            2019-06-23 00:00:00   \n",
      "max       1250.000000         629.000000            2019-07-08 00:00:00   \n",
      "std         20.513684          44.555777                            NaN   \n",
      "\n",
      "       reviews_per_month  calculated_host_listings_count  availability_365  \n",
      "count       48900.000000                    48900.000000      48900.000000  \n",
      "mean            1.090863                        7.143374        112.783742  \n",
      "min             0.000000                        1.000000          0.000000  \n",
      "25%             0.040000                        1.000000          0.000000  \n",
      "50%             0.370000                        1.000000         45.000000  \n",
      "75%             1.580000                        2.000000        227.000000  \n",
      "max            58.500000                      327.000000        365.000000  \n",
      "std             1.597218                       32.950889        131.626347  \n"
     ]
    }
   ],
   "source": [
    "print(df.describe())\n"
   ]
  },
  {
   "cell_type": "code",
   "execution_count": null,
   "metadata": {},
   "outputs": [],
   "source": [
    "# Presence of unique IDs (id/hostid) indicates a large dataset.\n",
    "# Latitude ranges approximately from 40.5 to 40.9 and longitude from -74.24 to -73.71, showing clustered locations.\n",
    "# Maximum price is 10,000, which is an outlier compared to typical values.\n",
    "# Median minimum nights is around 3, while the maximum is 1250 nights, indicating an outlier\n",
    "# Most listings have few reviews, but some reach up to 629 reviews\n",
    "# Reviews per month follow a similar trend with a few very high values\n",
    "# Calculated host listings count is mostly 1, with a maximum of 327, suggesting a skewed distribution\n",
    "# Mean of last review dates is not particularly informative\n",
    "# Columns such as minimum nights, number_of_reviews, reviews_per_month, calculated_host_listings_count, and availability_365 are treated as categorical"
   ]
  },
  {
   "cell_type": "markdown",
   "metadata": {},
   "source": [
    "Q7"
   ]
  },
  {
   "cell_type": "code",
   "execution_count": 13,
   "metadata": {},
   "outputs": [
    {
     "name": "stdout",
     "output_type": "stream",
     "text": [
      "Number of duplicate rows: 5\n"
     ]
    }
   ],
   "source": [
    "duplicates = df.duplicated().sum()\n",
    "print(f\"Number of duplicate rows: {duplicates}\")\n",
    "\n",
    "df = df.drop_duplicates()\n"
   ]
  },
  {
   "cell_type": "code",
   "execution_count": 14,
   "metadata": {},
   "outputs": [
    {
     "name": "stdout",
     "output_type": "stream",
     "text": [
      "Dataset Shape: (48895, 16)\n"
     ]
    }
   ],
   "source": [
    "print(\"Dataset Shape:\", df.shape)\n"
   ]
  },
  {
   "cell_type": "markdown",
   "metadata": {},
   "source": [
    "Q8"
   ]
  },
  {
   "cell_type": "code",
   "execution_count": 15,
   "metadata": {},
   "outputs": [
    {
     "name": "stdout",
     "output_type": "stream",
     "text": [
      "id                                    0\n",
      "name                                 16\n",
      "host_id                               0\n",
      "host_name                             0\n",
      "neighbourhood group                   0\n",
      "neighbourhood                         0\n",
      "latitude                              0\n",
      "longitude                             0\n",
      "room type                             0\n",
      "price                                 0\n",
      "minimum nights                        0\n",
      "number_of_reviews                     0\n",
      "last review                       10052\n",
      "reviews_per_month                     0\n",
      "calculated_host_listings_count        0\n",
      "availability_365                      0\n",
      "dtype: int64\n"
     ]
    }
   ],
   "source": [
    "print(df.isnull().sum())\n"
   ]
  },
  {
   "cell_type": "markdown",
   "metadata": {},
   "source": [
    "Q9"
   ]
  },
  {
   "cell_type": "code",
   "execution_count": 16,
   "metadata": {},
   "outputs": [],
   "source": [
    "df['name'] = df['name'].fillna(\"Unknown Listing\")\n"
   ]
  },
  {
   "cell_type": "code",
   "execution_count": 17,
   "metadata": {},
   "outputs": [
    {
     "name": "stdout",
     "output_type": "stream",
     "text": [
      "id                                    0\n",
      "name                                  0\n",
      "host_id                               0\n",
      "host_name                             0\n",
      "neighbourhood group                   0\n",
      "neighbourhood                         0\n",
      "latitude                              0\n",
      "longitude                             0\n",
      "room type                             0\n",
      "price                                 0\n",
      "minimum nights                        0\n",
      "number_of_reviews                     0\n",
      "last review                       10052\n",
      "reviews_per_month                     0\n",
      "calculated_host_listings_count        0\n",
      "availability_365                      0\n",
      "dtype: int64\n"
     ]
    }
   ],
   "source": [
    "print(df.isnull().sum())\n"
   ]
  },
  {
   "cell_type": "code",
   "execution_count": 18,
   "metadata": {},
   "outputs": [
    {
     "name": "stdout",
     "output_type": "stream",
     "text": [
      "             id                                               name   host_id  \\\n",
      "2          3647                THE VILLAGE OF HARLEM....NEW YORK !      4632   \n",
      "24         7750                  Huge 2 BR Upper East  Cental Park     17985   \n",
      "31         8700  Magnifique Suite au N de Manhattan - vue Cloitres     26394   \n",
      "41        11452                        Clean and Quiet in Brooklyn      7355   \n",
      "43        11943                          Country space in the city     45445   \n",
      "...         ...                                                ...       ...   \n",
      "48895  36484665    Charming one bedroom - newly renovated rowhouse   8232441   \n",
      "48896  36485057      Affordable room in Bushwick/East Williamsburg   6570630   \n",
      "48897  36485431            Sunny Studio at Historical Neighborhood  23492952   \n",
      "48898  36485609               43rd St. Time Square-cozy single bed  30985759   \n",
      "48899  36487245  Trendy duplex in the very heart of Hell's Kitchen  68119814   \n",
      "\n",
      "             host_name neighbourhood group       neighbourhood  latitude  \\\n",
      "2            Elisabeth           Manhattan              Harlem  40.80902   \n",
      "24                Sing           Manhattan         East Harlem  40.79685   \n",
      "31     Claude & Sophie           Manhattan              Inwood  40.86754   \n",
      "41                  Vt            Brooklyn  Bedford-Stuyvesant  40.68876   \n",
      "43             Harriet            Brooklyn            Flatbush  40.63702   \n",
      "...                ...                 ...                 ...       ...   \n",
      "48895          Sabrina            Brooklyn  Bedford-Stuyvesant  40.67853   \n",
      "48896          Marisol            Brooklyn            Bushwick  40.70184   \n",
      "48897    Ilgar & Aysel           Manhattan              Harlem  40.81475   \n",
      "48898              Taz           Manhattan      Hell's Kitchen  40.75751   \n",
      "48899       Christophe           Manhattan      Hell's Kitchen  40.76404   \n",
      "\n",
      "       longitude        room type  price  minimum nights  number_of_reviews  \\\n",
      "2      -73.94190     Private room    150               3                  0   \n",
      "24     -73.94872  Entire home/apt    190               7                  0   \n",
      "31     -73.92639     Private room     80               4                  0   \n",
      "41     -73.94312     Private room     35              60                  0   \n",
      "43     -73.96327     Private room    150               1                  0   \n",
      "...          ...              ...    ...             ...                ...   \n",
      "48895  -73.94995     Private room     70               2                  0   \n",
      "48896  -73.93317     Private room     40               4                  0   \n",
      "48897  -73.94867  Entire home/apt    115              10                  0   \n",
      "48898  -73.99112      Shared room     55               1                  0   \n",
      "48899  -73.98933     Private room     90               7                  0   \n",
      "\n",
      "      last review  reviews_per_month  calculated_host_listings_count  \\\n",
      "2             NaT                0.0                               1   \n",
      "24            NaT                0.0                               2   \n",
      "31            NaT                0.0                               1   \n",
      "41            NaT                0.0                               1   \n",
      "43            NaT                0.0                               1   \n",
      "...           ...                ...                             ...   \n",
      "48895         NaT                0.0                               2   \n",
      "48896         NaT                0.0                               2   \n",
      "48897         NaT                0.0                               1   \n",
      "48898         NaT                0.0                               6   \n",
      "48899         NaT                0.0                               1   \n",
      "\n",
      "       availability_365  \n",
      "2                   365  \n",
      "24                  249  \n",
      "31                    0  \n",
      "41                  365  \n",
      "43                  365  \n",
      "...                 ...  \n",
      "48895                 9  \n",
      "48896                36  \n",
      "48897                27  \n",
      "48898                 2  \n",
      "48899                23  \n",
      "\n",
      "[10052 rows x 16 columns]\n"
     ]
    }
   ],
   "source": [
    "# Filter rows with missing 'last review' OR 'number_of_reviews' equal to zero\n",
    "filtered_df = df[(df['number_of_reviews'] == 0)]\n",
    "\n",
    "# Display the filtered DataFrame\n",
    "print(filtered_df)"
   ]
  },
  {
   "cell_type": "code",
   "execution_count": 19,
   "metadata": {},
   "outputs": [
    {
     "name": "stdout",
     "output_type": "stream",
     "text": [
      "             id                                               name   host_id  \\\n",
      "2          3647                THE VILLAGE OF HARLEM....NEW YORK !      4632   \n",
      "24         7750                  Huge 2 BR Upper East  Cental Park     17985   \n",
      "31         8700  Magnifique Suite au N de Manhattan - vue Cloitres     26394   \n",
      "41        11452                        Clean and Quiet in Brooklyn      7355   \n",
      "43        11943                          Country space in the city     45445   \n",
      "...         ...                                                ...       ...   \n",
      "48895  36484665    Charming one bedroom - newly renovated rowhouse   8232441   \n",
      "48896  36485057      Affordable room in Bushwick/East Williamsburg   6570630   \n",
      "48897  36485431            Sunny Studio at Historical Neighborhood  23492952   \n",
      "48898  36485609               43rd St. Time Square-cozy single bed  30985759   \n",
      "48899  36487245  Trendy duplex in the very heart of Hell's Kitchen  68119814   \n",
      "\n",
      "             host_name neighbourhood group       neighbourhood  latitude  \\\n",
      "2            Elisabeth           Manhattan              Harlem  40.80902   \n",
      "24                Sing           Manhattan         East Harlem  40.79685   \n",
      "31     Claude & Sophie           Manhattan              Inwood  40.86754   \n",
      "41                  Vt            Brooklyn  Bedford-Stuyvesant  40.68876   \n",
      "43             Harriet            Brooklyn            Flatbush  40.63702   \n",
      "...                ...                 ...                 ...       ...   \n",
      "48895          Sabrina            Brooklyn  Bedford-Stuyvesant  40.67853   \n",
      "48896          Marisol            Brooklyn            Bushwick  40.70184   \n",
      "48897    Ilgar & Aysel           Manhattan              Harlem  40.81475   \n",
      "48898              Taz           Manhattan      Hell's Kitchen  40.75751   \n",
      "48899       Christophe           Manhattan      Hell's Kitchen  40.76404   \n",
      "\n",
      "       longitude        room type  price  minimum nights  number_of_reviews  \\\n",
      "2      -73.94190     Private room    150               3                  0   \n",
      "24     -73.94872  Entire home/apt    190               7                  0   \n",
      "31     -73.92639     Private room     80               4                  0   \n",
      "41     -73.94312     Private room     35              60                  0   \n",
      "43     -73.96327     Private room    150               1                  0   \n",
      "...          ...              ...    ...             ...                ...   \n",
      "48895  -73.94995     Private room     70               2                  0   \n",
      "48896  -73.93317     Private room     40               4                  0   \n",
      "48897  -73.94867  Entire home/apt    115              10                  0   \n",
      "48898  -73.99112      Shared room     55               1                  0   \n",
      "48899  -73.98933     Private room     90               7                  0   \n",
      "\n",
      "      last review  reviews_per_month  calculated_host_listings_count  \\\n",
      "2             NaT                0.0                               1   \n",
      "24            NaT                0.0                               2   \n",
      "31            NaT                0.0                               1   \n",
      "41            NaT                0.0                               1   \n",
      "43            NaT                0.0                               1   \n",
      "...           ...                ...                             ...   \n",
      "48895         NaT                0.0                               2   \n",
      "48896         NaT                0.0                               2   \n",
      "48897         NaT                0.0                               1   \n",
      "48898         NaT                0.0                               6   \n",
      "48899         NaT                0.0                               1   \n",
      "\n",
      "       availability_365  \n",
      "2                   365  \n",
      "24                  249  \n",
      "31                    0  \n",
      "41                  365  \n",
      "43                  365  \n",
      "...                 ...  \n",
      "48895                 9  \n",
      "48896                36  \n",
      "48897                27  \n",
      "48898                 2  \n",
      "48899                23  \n",
      "\n",
      "[10052 rows x 16 columns]\n"
     ]
    }
   ],
   "source": [
    "missing_last_review = df[df['last review'].isna()]\n",
    "\n",
    "# Display the rows with missing last review values\n",
    "print(missing_last_review)"
   ]
  },
  {
   "cell_type": "markdown",
   "metadata": {},
   "source": [
    "#since numberofreview is zero wherever lastreview is missing. it is safe to say we can add either zero or any other default value that coincides with no reviews given.NaT by default fits this description so we dont change it"
   ]
  },
  {
   "cell_type": "markdown",
   "metadata": {},
   "source": [
    "Q10"
   ]
  },
  {
   "cell_type": "code",
   "execution_count": 20,
   "metadata": {},
   "outputs": [],
   "source": [
    "df.drop(columns=['last review', 'name', 'id'], inplace=True)\n",
    "\n"
   ]
  },
  {
   "cell_type": "code",
   "execution_count": 21,
   "metadata": {},
   "outputs": [
    {
     "name": "stdout",
     "output_type": "stream",
     "text": [
      "    host_id         host_name neighbourhood group       neighbourhood  \\\n",
      "0      2787              John            Brooklyn          Kensington   \n",
      "1      2845          Jennifer           Manhattan             Midtown   \n",
      "2      4632         Elisabeth           Manhattan              Harlem   \n",
      "3      4869       LisaRoxanne            Brooklyn        Clinton Hill   \n",
      "4      7192             Laura           Manhattan         East Harlem   \n",
      "5      7322             Chris           Manhattan         Murray Hill   \n",
      "6      7356             Garon            Brooklyn  Bedford-Stuyvesant   \n",
      "7      8967          Shunichi           Manhattan      Hell's Kitchen   \n",
      "8      7490         MaryEllen           Manhattan     Upper West Side   \n",
      "9      7549               Ben           Manhattan           Chinatown   \n",
      "10     7702              Lena           Manhattan     Upper West Side   \n",
      "14    11975             Alina           Manhattan        West Village   \n",
      "15    17571              Jane            Brooklyn         Fort Greene   \n",
      "16     7989              Kate           Manhattan      Hell's Kitchen   \n",
      "17     9744            Laurie            Brooklyn         South Slope   \n",
      "18    11528           Claudio           Manhattan     Upper West Side   \n",
      "20    15991     Allen & Irina            Brooklyn        Williamsburg   \n",
      "22    18946              Doti           Manhattan             Chelsea   \n",
      "23    20950  Adam And Charity            Brooklyn       Crown Heights   \n",
      "24    17985              Sing           Manhattan         East Harlem   \n",
      "\n",
      "    latitude  longitude        room type  price  minimum nights  \\\n",
      "0   40.64749  -73.97237     Private room    149               1   \n",
      "1   40.75362  -73.98377  Entire home/apt    225               1   \n",
      "2   40.80902  -73.94190     Private room    150               3   \n",
      "3   40.68514  -73.95976  Entire home/apt     89               1   \n",
      "4   40.79851  -73.94399  Entire home/apt     80              10   \n",
      "5   40.74767  -73.97500  Entire home/apt    200               3   \n",
      "6   40.68688  -73.95596     Private room     60              45   \n",
      "7   40.76489  -73.98493     Private room     79               2   \n",
      "8   40.80178  -73.96723     Private room     79               2   \n",
      "9   40.71344  -73.99037  Entire home/apt    150               1   \n",
      "10  40.80316  -73.96545  Entire home/apt    135               5   \n",
      "14  40.73530  -74.00525  Entire home/apt    120              90   \n",
      "15  40.69169  -73.97185  Entire home/apt    215               2   \n",
      "16  40.76076  -73.98867     Private room     85               2   \n",
      "17  40.66829  -73.98779     Private room     89               4   \n",
      "18  40.79826  -73.96113     Private room     85               2   \n",
      "20  40.70837  -73.95352  Entire home/apt    140               2   \n",
      "22  40.74192  -73.99501     Private room    140               1   \n",
      "23  40.67592  -73.94694  Entire home/apt     99               3   \n",
      "24  40.79685  -73.94872  Entire home/apt    190               7   \n",
      "\n",
      "    number_of_reviews  reviews_per_month  calculated_host_listings_count  \\\n",
      "0                   9               0.21                               6   \n",
      "1                  45               0.38                               2   \n",
      "2                   0               0.00                               1   \n",
      "3                 270               4.64                               1   \n",
      "4                   9               0.10                               1   \n",
      "5                  74               0.59                               1   \n",
      "6                  49               0.40                               1   \n",
      "7                 430               3.47                               1   \n",
      "8                 118               0.99                               1   \n",
      "9                 160               1.33                               4   \n",
      "10                 53               0.43                               1   \n",
      "14                 27               0.22                               1   \n",
      "15                198               1.72                               1   \n",
      "16                188               1.50                               1   \n",
      "17                167               1.34                               3   \n",
      "18                113               0.91                               1   \n",
      "20                148               1.20                               1   \n",
      "22                260               2.12                               1   \n",
      "23                 53               4.44                               1   \n",
      "24                  0               0.00                               2   \n",
      "\n",
      "    availability_365  \n",
      "0                365  \n",
      "1                355  \n",
      "2                365  \n",
      "3                194  \n",
      "4                  0  \n",
      "5                129  \n",
      "6                  0  \n",
      "7                220  \n",
      "8                  0  \n",
      "9                188  \n",
      "10                 6  \n",
      "14                 0  \n",
      "15               321  \n",
      "16                39  \n",
      "17               314  \n",
      "18               333  \n",
      "20                46  \n",
      "22                12  \n",
      "23                21  \n",
      "24               249  \n"
     ]
    }
   ],
   "source": [
    "print(df.head(20))\n"
   ]
  },
  {
   "cell_type": "markdown",
   "metadata": {},
   "source": [
    "Q11"
   ]
  },
  {
   "cell_type": "code",
   "execution_count": null,
   "metadata": {},
   "outputs": [
    {
     "name": "stdout",
     "output_type": "stream",
     "text": [
      "Room type unique values: 3\n",
      "Unique Room Types: ['Private room' 'Entire home/apt' 'Shared room']\n",
      "Neighbourhood group unique values: 6\n",
      "Unique Neighbourhood Groups: ['Brooklyn' 'Manhattan' 'Broklyn' 'Queens' 'Staten Island' 'Bronx']\n",
      "Neighbourhood unique values: 221\n",
      "Unique Neighbourhoods: ['Kensington' 'Midtown' 'Harlem' 'Clinton Hill' 'East Harlem'\n",
      " 'Murray Hill' 'Bedford-Stuyvesant' \"Hell's Kitchen\" 'Upper West Side'\n",
      " 'Chinatown' 'West Village' 'Fort Greene' 'South Slope' 'Williamsburg'\n",
      " 'Chelsea' 'Crown Heights' 'Park Slope' 'Windsor Terrace' 'Inwood'\n",
      " 'East Village' 'Greenpoint' 'Bushwick' 'Flatbush' 'Lower East Side'\n",
      " 'Prospect-Lefferts Gardens' 'Long Island City' 'Kips Bay' 'SoHo'\n",
      " 'Upper East Side' 'Prospect Heights' 'Washington Heights' 'Woodside'\n",
      " 'Brooklyn Heights' 'Carroll Gardens' 'Gowanus' 'Flatlands' 'Cobble Hill'\n",
      " 'Flushing' 'Boerum Hill' 'Sunnyside' 'DUMBO' 'St. George' 'Highbridge'\n",
      " 'Financial District' 'Ridgewood' 'Morningside Heights' 'Jamaica'\n",
      " 'Middle Village' 'NoHo' 'Ditmars Steinway' 'Flatiron District'\n",
      " 'Roosevelt Island' 'Greenwich Village' 'Little Italy' 'East Flatbush'\n",
      " 'Tompkinsville' 'Astoria' 'Clason Point' 'Eastchester' 'Kingsbridge'\n",
      " 'Two Bridges' 'Queens Village' 'Rockaway Beach' 'Forest Hills' 'Nolita'\n",
      " 'Woodlawn' 'University Heights' 'Gravesend' 'Gramercy' 'Allerton'\n",
      " 'East New York' 'Theater District' 'Concourse Village' 'Sheepshead Bay'\n",
      " 'Emerson Hill' 'Fort Hamilton' 'Bensonhurst' 'Tribeca' 'Shore Acres'\n",
      " 'Sunset Park' 'Concourse' 'Elmhurst' 'Brighton Beach' 'Jackson Heights'\n",
      " 'Cypress Hills' 'St. Albans' 'Arrochar' 'Rego Park' 'Wakefield' 'Clifton'\n",
      " 'Bay Ridge' 'Graniteville' 'Spuyten Duyvil' 'Stapleton' 'Briarwood'\n",
      " 'Ozone Park' 'Columbia St' 'Vinegar Hill' 'Mott Haven' 'Longwood'\n",
      " 'Canarsie' 'Battery Park City' 'Civic Center' 'East Elmhurst'\n",
      " 'New Springville' 'Morris Heights' 'Arverne' 'Cambria Heights'\n",
      " 'Tottenville' 'Mariners Harbor' 'Concord' 'Borough Park' 'Bayside'\n",
      " 'Downtown Brooklyn' 'Port Morris' 'Fieldston' 'Kew Gardens' 'Midwood'\n",
      " 'College Point' 'Mount Eden' 'City Island' 'Glendale' 'Port Richmond'\n",
      " 'Red Hook' 'Richmond Hill' 'Bellerose' 'Maspeth' 'Williamsbridge'\n",
      " 'Soundview' 'Woodhaven' 'Woodrow' 'Co-op City' 'Stuyvesant Town'\n",
      " 'Parkchester' 'North Riverdale' 'Dyker Heights' 'Bronxdale' 'Sea Gate'\n",
      " 'Riverdale' 'Kew Gardens Hills' 'Bay Terrace' 'Norwood'\n",
      " 'Claremont Village' 'Whitestone' 'Fordham' 'Bayswater' 'Navy Yard'\n",
      " 'Brownsville' 'Eltingville' 'Fresh Meadows' 'Mount Hope'\n",
      " 'Lighthouse Hill' 'Springfield Gardens' 'Howard Beach' 'Belle Harbor'\n",
      " 'Jamaica Estates' 'Van Nest' 'Morris Park' 'West Brighton' 'Far Rockaway'\n",
      " 'South Ozone Park' 'Tremont' 'Corona' 'Great Kills' 'Manhattan Beach'\n",
      " 'Marble Hill' 'Dongan Hills' 'Castleton Corners' 'East Morrisania'\n",
      " 'Hunts Point' 'Neponsit' 'Pelham Bay' 'Randall Manor' 'Throgs Neck'\n",
      " 'Todt Hill' 'West Farms' 'Silver Lake' 'Morrisania' 'Laurelton'\n",
      " 'Grymes Hill' 'Holliswood' 'Pelham Gardens' 'Belmont' 'Rosedale'\n",
      " 'Edgemere' 'New Brighton' 'Midland Beach' 'Baychester' 'Melrose'\n",
      " 'Bergen Beach' 'Richmondtown' 'Howland Hook' 'Schuylerville'\n",
      " 'Coney Island' 'New Dorp Beach' \"Prince's Bay\" 'South Beach' 'Bath Beach'\n",
      " 'Jamaica Hills' 'Oakwood' 'Castle Hill' 'Hollis' 'Douglaston' 'Huguenot'\n",
      " 'Olinville' 'Edenwald' 'Grant City' 'Westerleigh'\n",
      " 'Bay Terrace, Staten Island' 'Westchester Square' 'Little Neck'\n",
      " 'Fort Wadsworth' 'Rosebank' 'Unionport' 'Mill Basin' 'Arden Heights'\n",
      " \"Bull's Head\" 'New Dorp' 'Rossville' 'Breezy Point' 'Willowbrook']\n"
     ]
    }
   ],
   "source": [
    "# count nd list unique values for 'room type'\n",
    "room_type_count = df['room type'].nunique()\n",
    "room_type_values = df['room type'].unique()\n",
    "print(\"Room type unique values:\", room_type_count)\n",
    "print(\"Unique Room Types:\", room_type_values)\n",
    "\n",
    "# count and lst unique values for 'neighbourhood group'\n",
    "ngroup_count = df['neighbourhood group'].nunique()\n",
    "ngroup_values = df['neighbourhood group'].unique()\n",
    "print(\"Neighbourhood group unique values:\", ngroup_count)\n",
    "print(\"Unique Neighbourhood Groups:\", ngroup_values)\n",
    "\n",
    "# count and list unique values for 'neigbourhood'\n",
    "neighbourhood_count = df['neighbourhood'].nunique()\n",
    "neighbourhood_values = df['neighbourhood'].unique()\n",
    "print(\"Neighbourhood unique values:\", neighbourhood_count)\n",
    "print(\"Unique Neighbourhoods:\", neighbourhood_values)\n"
   ]
  },
  {
   "cell_type": "code",
   "execution_count": 25,
   "metadata": {},
   "outputs": [],
   "source": [
    "#Data inconssitencies such as Broklyn and Brooklyn etc were found"
   ]
  },
  {
   "cell_type": "markdown",
   "metadata": {},
   "source": []
  },
  {
   "cell_type": "code",
   "execution_count": 23,
   "metadata": {},
   "outputs": [
    {
     "name": "stderr",
     "output_type": "stream",
     "text": [
      "d:\\Programs\\Python\\Python310\\lib\\site-packages\\fuzzywuzzy\\fuzz.py:11: UserWarning: Using slow pure-python SequenceMatcher. Install python-Levenshtein to remove this warning\n",
      "  warnings.warn('Using slow pure-python SequenceMatcher. Install python-Levenshtein to remove this warning')\n"
     ]
    },
    {
     "name": "stdout",
     "output_type": "stream",
     "text": [
      "Cleaned Neighbourhood group unique values: ['Brooklyn' 'Manhattan' 'Queens' 'Staten Island' 'Bronx']\n"
     ]
    }
   ],
   "source": [
    "from fuzzywuzzy import process\n",
    "\n",
    "# Define the list of correct borough names.\n",
    "valid_boroughs = [\"Brooklyn\", \"Manhattan\", \"Queens\", \"Staten Island\", \"Bronx\"]\n",
    "\n",
    "# Function to standardize the value.\n",
    "def standardize_neighbourhood_group(val):\n",
    "    # Use fuzzy matching to get the best match from the valid borough list.\n",
    "    best_match = process.extractOne(val, valid_boroughs, score_cutoff=80)\n",
    "    if best_match:\n",
    "        return best_match[0]\n",
    "    else:\n",
    "        # If no good match is found, return the original value.\n",
    "        return val\n",
    "\n",
    "# Apply the function to the column.\n",
    "df['neighbourhood group'] = df['neighbourhood group'].apply(standardize_neighbourhood_group)\n",
    "\n",
    "# Check the unique values after cleaning.\n",
    "print(\"Cleaned Neighbourhood group unique values:\", df['neighbourhood group'].unique())\n"
   ]
  },
  {
   "cell_type": "code",
   "execution_count": null,
   "metadata": {},
   "outputs": [
    {
     "name": "stdout",
     "output_type": "stream",
     "text": [
      "Room type unique values: 3\n",
      "Unique Room Types: ['Private room' 'Entire home/apt' 'Shared room']\n",
      "Neighbourhood group unique values: 5\n",
      "Unique Neighbourhood Groups: ['Brooklyn' 'Manhattan' 'Queens' 'Staten Island' 'Bronx']\n",
      "Neighbourhood unique values: 221\n",
      "Unique Neighbourhoods: ['Kensington' 'Midtown' 'Harlem' 'Clinton Hill' 'East Harlem'\n",
      " 'Murray Hill' 'Bedford-Stuyvesant' \"Hell's Kitchen\" 'Upper West Side'\n",
      " 'Chinatown' 'West Village' 'Fort Greene' 'South Slope' 'Williamsburg'\n",
      " 'Chelsea' 'Crown Heights' 'Park Slope' 'Windsor Terrace' 'Inwood'\n",
      " 'East Village' 'Greenpoint' 'Bushwick' 'Flatbush' 'Lower East Side'\n",
      " 'Prospect-Lefferts Gardens' 'Long Island City' 'Kips Bay' 'SoHo'\n",
      " 'Upper East Side' 'Prospect Heights' 'Washington Heights' 'Woodside'\n",
      " 'Brooklyn Heights' 'Carroll Gardens' 'Gowanus' 'Flatlands' 'Cobble Hill'\n",
      " 'Flushing' 'Boerum Hill' 'Sunnyside' 'DUMBO' 'St. George' 'Highbridge'\n",
      " 'Financial District' 'Ridgewood' 'Morningside Heights' 'Jamaica'\n",
      " 'Middle Village' 'NoHo' 'Ditmars Steinway' 'Flatiron District'\n",
      " 'Roosevelt Island' 'Greenwich Village' 'Little Italy' 'East Flatbush'\n",
      " 'Tompkinsville' 'Astoria' 'Clason Point' 'Eastchester' 'Kingsbridge'\n",
      " 'Two Bridges' 'Queens Village' 'Rockaway Beach' 'Forest Hills' 'Nolita'\n",
      " 'Woodlawn' 'University Heights' 'Gravesend' 'Gramercy' 'Allerton'\n",
      " 'East New York' 'Theater District' 'Concourse Village' 'Sheepshead Bay'\n",
      " 'Emerson Hill' 'Fort Hamilton' 'Bensonhurst' 'Tribeca' 'Shore Acres'\n",
      " 'Sunset Park' 'Concourse' 'Elmhurst' 'Brighton Beach' 'Jackson Heights'\n",
      " 'Cypress Hills' 'St. Albans' 'Arrochar' 'Rego Park' 'Wakefield' 'Clifton'\n",
      " 'Bay Ridge' 'Graniteville' 'Spuyten Duyvil' 'Stapleton' 'Briarwood'\n",
      " 'Ozone Park' 'Columbia St' 'Vinegar Hill' 'Mott Haven' 'Longwood'\n",
      " 'Canarsie' 'Battery Park City' 'Civic Center' 'East Elmhurst'\n",
      " 'New Springville' 'Morris Heights' 'Arverne' 'Cambria Heights'\n",
      " 'Tottenville' 'Mariners Harbor' 'Concord' 'Borough Park' 'Bayside'\n",
      " 'Downtown Brooklyn' 'Port Morris' 'Fieldston' 'Kew Gardens' 'Midwood'\n",
      " 'College Point' 'Mount Eden' 'City Island' 'Glendale' 'Port Richmond'\n",
      " 'Red Hook' 'Richmond Hill' 'Bellerose' 'Maspeth' 'Williamsbridge'\n",
      " 'Soundview' 'Woodhaven' 'Woodrow' 'Co-op City' 'Stuyvesant Town'\n",
      " 'Parkchester' 'North Riverdale' 'Dyker Heights' 'Bronxdale' 'Sea Gate'\n",
      " 'Riverdale' 'Kew Gardens Hills' 'Bay Terrace' 'Norwood'\n",
      " 'Claremont Village' 'Whitestone' 'Fordham' 'Bayswater' 'Navy Yard'\n",
      " 'Brownsville' 'Eltingville' 'Fresh Meadows' 'Mount Hope'\n",
      " 'Lighthouse Hill' 'Springfield Gardens' 'Howard Beach' 'Belle Harbor'\n",
      " 'Jamaica Estates' 'Van Nest' 'Morris Park' 'West Brighton' 'Far Rockaway'\n",
      " 'South Ozone Park' 'Tremont' 'Corona' 'Great Kills' 'Manhattan Beach'\n",
      " 'Marble Hill' 'Dongan Hills' 'Castleton Corners' 'East Morrisania'\n",
      " 'Hunts Point' 'Neponsit' 'Pelham Bay' 'Randall Manor' 'Throgs Neck'\n",
      " 'Todt Hill' 'West Farms' 'Silver Lake' 'Morrisania' 'Laurelton'\n",
      " 'Grymes Hill' 'Holliswood' 'Pelham Gardens' 'Belmont' 'Rosedale'\n",
      " 'Edgemere' 'New Brighton' 'Midland Beach' 'Baychester' 'Melrose'\n",
      " 'Bergen Beach' 'Richmondtown' 'Howland Hook' 'Schuylerville'\n",
      " 'Coney Island' 'New Dorp Beach' \"Prince's Bay\" 'South Beach' 'Bath Beach'\n",
      " 'Jamaica Hills' 'Oakwood' 'Castle Hill' 'Hollis' 'Douglaston' 'Huguenot'\n",
      " 'Olinville' 'Edenwald' 'Grant City' 'Westerleigh'\n",
      " 'Bay Terrace, Staten Island' 'Westchester Square' 'Little Neck'\n",
      " 'Fort Wadsworth' 'Rosebank' 'Unionport' 'Mill Basin' 'Arden Heights'\n",
      " \"Bull's Head\" 'New Dorp' 'Rossville' 'Breezy Point' 'Willowbrook']\n"
     ]
    }
   ],
   "source": []
  }
 ],
 "metadata": {
  "kernelspec": {
   "display_name": "Python 3",
   "language": "python",
   "name": "python3"
  },
  "language_info": {
   "codemirror_mode": {
    "name": "ipython",
    "version": 3
   },
   "file_extension": ".py",
   "mimetype": "text/x-python",
   "name": "python",
   "nbconvert_exporter": "python",
   "pygments_lexer": "ipython3",
   "version": "3.10.11"
  }
 },
 "nbformat": 4,
 "nbformat_minor": 2
}
